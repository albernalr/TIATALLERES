{
 "cells": [
  {
   "cell_type": "code",
   "execution_count": 1,
   "id": "1343efd2-c998-4ae5-b974-e40380f788a0",
   "metadata": {},
   "outputs": [],
   "source": [
    "import numpy as np\n",
    "import cv2 as cv\n",
    "import sys"
   ]
  },
  {
   "cell_type": "code",
   "execution_count": 8,
   "id": "c0033b85-15f1-4cca-a4c4-ee0b0ce4e9f5",
   "metadata": {},
   "outputs": [],
   "source": [
    "diaSoleado = cv.split(cv.imread('/home/juan/Documentos/Documentos_UN/2024-1/Clases/Tecnicas_de_IA/Taller_1/dia-soleado.jpeg'))\n",
    "diaSombra = cv.split(cv.imread('/home/juan/Documentos/Documentos_UN/2024-1/Clases/Tecnicas_de_IA/Taller_1/dia-sombra.jpeg'))\n",
    "interior = cv.split(cv.imread('/home/juan/Documentos/Documentos_UN/2024-1/Clases/Tecnicas_de_IA/Taller_1/interior.jpeg'))"
   ]
  },
  {
   "cell_type": "code",
   "execution_count": 9,
   "id": "b6f910c2-9446-41ba-b32b-845b63467ccb",
   "metadata": {},
   "outputs": [],
   "source": [
    "histSize = 256\n",
    "histRange = (0, 256)\n",
    "accumulate = False\n",
    "\n",
    "blueSunnyDayHistogram = cv.calcHist(diaSoleado, [0], None, [histSize], histRange, accumulate=accumulate)\n",
    "redSunnyDayHistogram = cv.calcHist(diaSoleado, [1], None, [histSize], histRange, accumulate=accumulate)\n",
    "greenSunnyDayHistogram = cv.calcHist(diaSoleado, [2], None, [histSize], histRange, accumulate=accumulate)\n",
    "\n",
    "\n",
    "blueCloudyDayHistogram = cv.calcHist(diaSombra, [0], None, [histSize], histRange, accumulate=accumulate)\n",
    "redCloudyDayHistogram = cv.calcHist(diaSombra, [1], None, [histSize], histRange, accumulate=accumulate)\n",
    "greenCloudyDayHistogram = cv.calcHist(diaSombra, [2], None, [histSize], histRange, accumulate=accumulate)\n",
    "\n",
    "\n",
    "blueIndoorDayHistogram = cv.calcHist(interior, [0], None, [histSize], histRange, accumulate=accumulate)\n",
    "redIndoorDayHistogram = cv.calcHist(interior, [1], None, [histSize], histRange, accumulate=accumulate)\n",
    "greenIndoorDayHistogram = cv.calcHist(interior, [2], None, [histSize], histRange, accumulate=accumulate)"
   ]
  },
  {
   "cell_type": "code",
   "execution_count": null,
   "id": "6bb00372-2179-4996-8f65-a8bfcc27e0c5",
   "metadata": {},
   "outputs": [],
   "source": [
    "def compareHistograms(a, b):\n",
    "    comparisons = []\n",
    "    for method in range(4):\n",
    "        d = cv.compareHist(a, b, method)\n",
    "        comparisons.append(d)\n",
    "    return comparisons"
   ]
  },
  {
   "cell_type": "code",
   "execution_count": null,
   "id": "9dbd0a7b-e9bd-4c32-b453-6da2d3497a47",
   "metadata": {},
   "outputs": [],
   "source": [
    "def compareImagesHists(img1, img2):\n",
    "    histSize = 256\n",
    "    histRange = (0, 256)\n",
    "    accumulate = False\n",
    "    for color in range(3):\n",
    "        currentHist1 = cv.calcHist(img1, [color], None, [histSize], histRange, accumulate=accumulate)\n",
    "        currentHist2 = cv.calcHist(img1, [color], None, [histSize], histRange, accumulate=accumulate)\n",
    "        comparisons = compareHistograms(currentHist1, currentHist2)\n",
    "        print('------------------------------------------------')\n",
    "        for i in range(4):\n",
    "            if (i == 0):\n",
    "                print('Por correlación: {}'.format(comparisons[i]))\n",
    "            "
   ]
  }
 ],
 "metadata": {
  "kernelspec": {
   "display_name": "Python 3 (ipykernel)",
   "language": "python",
   "name": "python3"
  },
  "language_info": {
   "codemirror_mode": {
    "name": "ipython",
    "version": 3
   },
   "file_extension": ".py",
   "mimetype": "text/x-python",
   "name": "python",
   "nbconvert_exporter": "python",
   "pygments_lexer": "ipython3",
   "version": "3.10.12"
  }
 },
 "nbformat": 4,
 "nbformat_minor": 5
}
